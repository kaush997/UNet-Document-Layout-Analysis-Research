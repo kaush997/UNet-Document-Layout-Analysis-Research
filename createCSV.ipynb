{
 "cells": [
  {
   "cell_type": "code",
   "id": "initial_id",
   "metadata": {
    "collapsed": true,
    "ExecuteTime": {
     "end_time": "2024-12-14T11:37:19.450332Z",
     "start_time": "2024-12-14T11:37:19.067151Z"
    }
   },
   "source": [
    "import os\n",
    "import pandas as pd"
   ],
   "outputs": [],
   "execution_count": 2
  },
  {
   "metadata": {
    "ExecuteTime": {
     "end_time": "2024-12-14T11:37:46.504809Z",
     "start_time": "2024-12-14T11:37:46.501278Z"
    }
   },
   "cell_type": "code",
   "source": [
    "# Define paths\n",
    "images_path = './data/images'\n",
    "labels_path = './data/combined_labels'\n",
    "output_csv_path = './data/image_label_mapping.csv'"
   ],
   "id": "25fe9ed63ec9dfbc",
   "outputs": [],
   "execution_count": 3
  },
  {
   "metadata": {
    "ExecuteTime": {
     "end_time": "2024-12-14T11:38:13.013063Z",
     "start_time": "2024-12-14T11:38:13.006230Z"
    }
   },
   "cell_type": "code",
   "source": [
    "# Get list of image and label files\n",
    "image_files = sorted(os.listdir(images_path))  # Sorting ensures proper order\n",
    "label_files = sorted(os.listdir(labels_path))"
   ],
   "id": "9283b1136c4717ec",
   "outputs": [],
   "execution_count": 4
  },
  {
   "metadata": {
    "ExecuteTime": {
     "end_time": "2024-12-14T11:40:12.680219Z",
     "start_time": "2024-12-14T11:40:12.665150Z"
    }
   },
   "cell_type": "code",
   "source": [
    "# Initialize a list to store image-label mappings\n",
    "mappings = []\n",
    "\n",
    "# Process each image file\n",
    "for image_file in image_files:\n",
    "    if image_file.startswith(\"Doc_\") and image_file.endswith(\".jpg\"):\n",
    "        # Extract document number from image file name\n",
    "        doc_number = int(image_file.split('_')[1].split('.')[0])\n",
    "        \n",
    "        # Calculate task number by adding 30\n",
    "        task_number = doc_number + 30\n",
    "        \n",
    "        # Construct label file name\n",
    "        label_file = f\"task-{task_number}_combined.png\"\n",
    "        \n",
    "        # Check if label file exists\n",
    "        if label_file in label_files:\n",
    "            mappings.append({\"image_name\": image_file, \"label_name\": label_file})\n",
    "        else:\n",
    "            print(f\"Warning: Label file not found for {image_file} (expected: {label_file})\")\n",
    "\n",
    "# Create a DataFrame from the mappings\n",
    "mappings_df = pd.DataFrame(mappings)\n",
    "\n",
    "# Save the DataFrame to a CSV file\n",
    "mappings_df.to_csv(output_csv_path, index=False)\n",
    "\n",
    "print(f\"CSV file created successfully at {output_csv_path}.\")"
   ],
   "id": "4c8ce0587739cb3",
   "outputs": [
    {
     "name": "stdout",
     "output_type": "stream",
     "text": [
      "CSV file created successfully at ./data/image_label_mapping.csv.\n"
     ]
    }
   ],
   "execution_count": 5
  },
  {
   "metadata": {},
   "cell_type": "code",
   "outputs": [],
   "execution_count": null,
   "source": "",
   "id": "96d0309b4f71c7f8"
  }
 ],
 "metadata": {
  "kernelspec": {
   "display_name": "Python 3",
   "language": "python",
   "name": "python3"
  },
  "language_info": {
   "codemirror_mode": {
    "name": "ipython",
    "version": 2
   },
   "file_extension": ".py",
   "mimetype": "text/x-python",
   "name": "python",
   "nbconvert_exporter": "python",
   "pygments_lexer": "ipython2",
   "version": "2.7.6"
  }
 },
 "nbformat": 4,
 "nbformat_minor": 5
}
