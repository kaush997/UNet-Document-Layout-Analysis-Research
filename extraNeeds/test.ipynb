{
 "cells": [
  {
   "cell_type": "code",
   "execution_count": null,
   "id": "initial_id",
   "metadata": {
    "collapsed": true
   },
   "outputs": [],
   "source": [
    "import os\n",
    "import albumentations as A"
   ]
  },
  {
   "metadata": {},
   "cell_type": "code",
   "outputs": [],
   "execution_count": null,
   "source": [
    "categories = os.listdir(\"path/to/root folder\")\n",
    "\n",
    "for category in categories:\n",
    "    # combine root path with category path\n",
    "    # read image and label folder files with related pairs\n",
    "    # loop through each image and label pair\n",
    "    # concatenate with these third dimension\n",
    "    # combine image path as a parameter albumentation pipeline\n",
    "    # split a output from albumentation pipeline into image and label (reverse the fourth step)\n",
    "    # save each augmented image and a label with their related category folder of inside image and label sub folder"
   ],
   "id": "17b158c54dee7890"
  },
  {
   "metadata": {},
   "cell_type": "code",
   "outputs": [],
   "execution_count": null,
   "source": "",
   "id": "f47af7a3ef55885e"
  },
  {
   "metadata": {},
   "cell_type": "code",
   "outputs": [],
   "execution_count": null,
   "source": "",
   "id": "a125719220a3f2c2"
  }
 ],
 "metadata": {
  "kernelspec": {
   "display_name": "Python 3",
   "language": "python",
   "name": "python3"
  },
  "language_info": {
   "codemirror_mode": {
    "name": "ipython",
    "version": 2
   },
   "file_extension": ".py",
   "mimetype": "text/x-python",
   "name": "python",
   "nbconvert_exporter": "python",
   "pygments_lexer": "ipython2",
   "version": "2.7.6"
  }
 },
 "nbformat": 4,
 "nbformat_minor": 5
}
